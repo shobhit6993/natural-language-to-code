{
 "cells": [
  {
   "cell_type": "code",
   "execution_count": 7,
   "metadata": {
    "collapsed": true
   },
   "outputs": [],
   "source": [
    "# Creates test dataset from the Turker dialogs.\n",
    "# It uses dialog logs from turk logs to create the test dataset in the format of IFTTT original test dataset\n",
    "# with Turker's first utterance as recipe descriptions.\n",
    "\n",
    "# It can use dialog logs from experiment-1 to recreate the gold dataset with Turker's first utterance\n",
    "# as recipe descriptions.This dataset can be used to directly compare the dialog approach against \n",
    "# single-shot Berkeley approach.\n",
    "\n",
    "# It can use dialog logs from experiment-3 to create a test dataset to evaluate Berkeley model on\n",
    "# descriptions alone, and compare it against retrained models using full dialog."
   ]
  },
  {
   "cell_type": "code",
   "execution_count": 8,
   "metadata": {
    "collapsed": true
   },
   "outputs": [],
   "source": [
    "import csv\n",
    "import glob"
   ]
  },
  {
   "cell_type": "code",
   "execution_count": 9,
   "metadata": {
    "collapsed": true
   },
   "outputs": [],
   "source": [
    "log_dir = \"../experiments/turk/experiment-3/full/\"\n",
    "log_files = glob.glob(log_dir + \"*.log\")\n",
    "new_csv = \"../ifttt/data/misc/experiments/experiment-3/test-from-dialog-experiment-3.csv\""
   ]
  },
  {
   "cell_type": "code",
   "execution_count": 13,
   "metadata": {
    "collapsed": true
   },
   "outputs": [],
   "source": [
    "def extract_data(line):\n",
    "    pos = line.find(\":\")\n",
    "    return line[pos+1:]"
   ]
  },
  {
   "cell_type": "code",
   "execution_count": 14,
   "metadata": {
    "collapsed": false
   },
   "outputs": [],
   "source": [
    "recipes = []\n",
    "# url, description, trigger_channel, trigger_function,\n",
    "for log_file in log_files:\n",
    "    with open(log_file, 'r') as f:\n",
    "        lines = f.readlines()\n",
    "        for line in lines:\n",
    "            data = extract_data(line.strip())\n",
    "            if \"recipe_url\" in line:\n",
    "                url = data\n",
    "            elif \"USER\" in line:\n",
    "                description = data\n",
    "                break\n",
    "            elif \"trigger_channel\" in line:\n",
    "                trigger_channel = data\n",
    "            elif \"trigger_function\" in line:\n",
    "                trigger_function = data\n",
    "            elif \"action_channel\" in line:\n",
    "                action_channel = data\n",
    "            elif \"action_function\" in line:\n",
    "                action_function = data\n",
    "        recipes.append({\"url\": url, \"name\": description, \"description\": \"\", \"trigger_channel\": trigger_channel,\n",
    "                       \"trigger_function\": trigger_function, \"action_channel\": action_channel, \n",
    "                       \"action_function\": action_function})"
   ]
  },
  {
   "cell_type": "code",
   "execution_count": 15,
   "metadata": {
    "collapsed": true
   },
   "outputs": [],
   "source": [
    "with open(new_csv, 'w') as f:\n",
    "    w = csv.DictWriter(f, fieldnames=['url','name','description','trigger_channel','trigger_function','action_channel','action_function'], extrasaction=\"ignore\")\n",
    "    w.writeheader()\n",
    "    w.writerows(recipes)"
   ]
  }
 ],
 "metadata": {
  "anaconda-cloud": {},
  "kernelspec": {
   "display_name": "Python [conda env:tensorflow]",
   "language": "python",
   "name": "conda-env-tensorflow-py"
  },
  "language_info": {
   "codemirror_mode": {
    "name": "ipython",
    "version": 2
   },
   "file_extension": ".py",
   "mimetype": "text/x-python",
   "name": "python",
   "nbconvert_exporter": "python",
   "pygments_lexer": "ipython2",
   "version": "2.7.13"
  }
 },
 "nbformat": 4,
 "nbformat_minor": 0
}
