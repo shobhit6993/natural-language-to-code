{
 "cells": [
  {
   "cell_type": "code",
   "execution_count": 1,
   "metadata": {
    "collapsed": true
   },
   "outputs": [],
   "source": [
    "# Aids in combining the results of experiment-1 conducted across batches by determining which recipes have multiple\n",
    "# dialog sessions and which recipes have none (and hence need to be Turked)"
   ]
  },
  {
   "cell_type": "code",
   "execution_count": 2,
   "metadata": {
    "collapsed": true
   },
   "outputs": [],
   "source": [
    "import csv\n",
    "import glob"
   ]
  },
  {
   "cell_type": "code",
   "execution_count": 8,
   "metadata": {
    "collapsed": true
   },
   "outputs": [],
   "source": [
    "gold_csv = \"../ifttt/data/misc/gold.csv\"\n",
    "log_directories = [\"/home/shobhit/code/natural_language_to_code/experiments/turk/experiment-1/experiment-1a/full\",\n",
    "                   \"/home/shobhit/code/natural_language_to_code/experiments/turk/experiment-1/experiment-1b/full\",\n",
    "                   \"/home/shobhit/code/natural_language_to_code/experiments/turk/experiment-1/experiment-1c/full\",\n",
    "                   \"/home/shobhit/code/natural_language_to_code/experiments/turk/experiment-1/experiment-1d/full\",\n",
    "                   \"/home/shobhit/code/natural_language_to_code/experiments/turk/experiment-1/experiment-1e/full\",\n",
    "                   \"/home/shobhit/code/natural_language_to_code/experiments/turk/experiment-1/experiment-1f/full\",\n",
    "                   \"/home/shobhit/code/natural_language_to_code/experiments/turk/experiment-1/experiment-1g/full\",\n",
    "                   \"/home/shobhit/code/natural_language_to_code/experiments/turk/experiment-1/experiment-1h/full\",\n",
    "                   \"/home/shobhit/code/natural_language_to_code/experiments/turk/experiment-1/experiment-1i/full\",\n",
    "                   \"/home/shobhit/code/natural_language_to_code/experiments/turk/experiment-1/experiment-1j/full\",\n",
    "                   \"/home/shobhit/code/natural_language_to_code/experiments/turk/experiment-1/experiment-1k/full\"\n",
    "                  ]"
   ]
  },
  {
   "cell_type": "code",
   "execution_count": 9,
   "metadata": {
    "collapsed": false
   },
   "outputs": [],
   "source": [
    "recipe_urls = set()\n",
    "# full = {}\n",
    "with open(gold_csv, 'r') as f:\n",
    "    reader = csv.DictReader(f)\n",
    "    for row in reader:\n",
    "        recipe_urls.add(row['url'])\n",
    "#         full[row['url']] = row\n",
    "# print len(recipe_urls)"
   ]
  },
  {
   "cell_type": "code",
   "execution_count": 11,
   "metadata": {
    "collapsed": false
   },
   "outputs": [
    {
     "name": "stdout",
     "output_type": "stream",
     "text": [
      "---------\n"
     ]
    }
   ],
   "source": [
    "url_file_map = {}\n",
    "for directory in log_directories:\n",
    "    log_files = glob.glob(directory + \"/*.log\")\n",
    "    for log_file in log_files:\n",
    "        with open(log_file, 'r') as f:\n",
    "            lines = f.readlines()\n",
    "            for line in lines:\n",
    "                line = line.strip()\n",
    "                if 'recipe_url' in line:\n",
    "                    pos = line.find(':')\n",
    "                    url = line[pos+1:]\n",
    "                    try:\n",
    "                        url_file_map[url].append(log_file)\n",
    "                    except KeyError:\n",
    "                        url_file_map[url] = [log_file]\n",
    "\n",
    "for url, files in url_file_map.iteritems():\n",
    "    if len(files) > 1:\n",
    "        print url, files\n",
    "\n",
    "# writ = []\n",
    "print \"---------\"\n",
    "for url in recipe_urls:\n",
    "    if url not in url_file_map:\n",
    "#         writ.append(full[url])\n",
    "        print url\n",
    "\n",
    "# with open(\"temp.csv\", 'w') as f:\n",
    "#     w = csv.DictWriter(f, fieldnames=['url','name','description','trigger_channel','trigger_function','action_channel','action_function'], extrasaction=\"ignore\")\n",
    "#     w.writeheader()\n",
    "#     w.writerows(writ)"
   ]
  },
  {
   "cell_type": "code",
   "execution_count": null,
   "metadata": {
    "collapsed": true
   },
   "outputs": [],
   "source": []
  }
 ],
 "metadata": {
  "anaconda-cloud": {},
  "kernelspec": {
   "display_name": "Python [conda env:tensorflow]",
   "language": "python",
   "name": "conda-env-tensorflow-py"
  },
  "language_info": {
   "codemirror_mode": {
    "name": "ipython",
    "version": 2
   },
   "file_extension": ".py",
   "mimetype": "text/x-python",
   "name": "python",
   "nbconvert_exporter": "python",
   "pygments_lexer": "ipython2",
   "version": "2.7.13"
  }
 },
 "nbformat": 4,
 "nbformat_minor": 1
}
